{
 "cells": [
  {
   "cell_type": "code",
   "execution_count": 148,
   "metadata": {},
   "outputs": [],
   "source": [
    "#Encode\n",
    "import numpy as np\n",
    "\n",
    "cipher = {\"A\" : 1, \"B\" : 2, \"C\" : 3, \"D\": 4, \"E\": 5, \"F\": 6,\n",
    "         \"G\" : 7, \"H\" : 8, \"I\" : 9, \"J\": 10, \"K\": 11, \"L\": 12,\n",
    "         \"M\" : 13, \"N\" : 14, \"O\" : 15, \"P\": 16, \"Q\": 17, \"R\": 18,\n",
    "         \"S\" : 19, \"T\" : 20, \"U\" : 21, \"V\": 22, \"W\": 23, \"X\": 24,\n",
    "         \"Y\": 25, \"Z\" : 0}\n",
    "\n",
    "inv_cipher = {v: k for k, v in cipher.items()}\n",
    "\n",
    "inverses = {1 : 1, 3 : 9, 5 : 21, 7 : 15, 9 : 3, 11 : 19, 15 : 7, 17 : 23, 19 : 11, 21 : 5, 23 : 17, 25: 25}\n",
    "\n",
    "def convertLetter(ciphertext):\n",
    "    returnval = []\n",
    "    for i in ciphertext:\n",
    "        returnval.append(inv_cipher[i])\n",
    "    return returnval\n",
    "\n",
    "def convertMod(plaintext):\n",
    "    returnval = []\n",
    "    for i in plaintext:\n",
    "        if i == 26:\n",
    "            returnval.append(0)\n",
    "        elif i > 26:\n",
    "            returnval.append(i % 26)\n",
    "        elif i < 0:\n",
    "            returnval.append(26 - abs(i) % 26)\n",
    "        else:\n",
    "            returnval.append(i)\n",
    "    return convertLetter(returnval)\n",
    "\n",
    "def convertModBase (number, base):\n",
    "    if number == base:\n",
    "        return 0\n",
    "    elif number > base:\n",
    "        return number % base\n",
    "    elif number < 0:\n",
    "        return (base - abs(number) % base)\n",
    "    else:\n",
    "        return number\n",
    "\n",
    "def encode(A, message):\n",
    "    encoded_text = ''\n",
    "\n",
    "    counter = 0\n",
    "    for i in range(0, len(message)-1, 2):\n",
    "        plaintext = np.matmul(A, [cipher[message[i]], cipher[message[i+1]]])\n",
    "        encoded_matrix = convertMod(plaintext)\n",
    "        encoded_text = encoded_text + \"\".join(str(x) for x in encoded_matrix)\n",
    "        counter+=2\n",
    "\n",
    "    if len(message) - counter == 1:\n",
    "        plaintext = np.matmul(A, [cipher[message[-1]], cipher[message[-1]]])\n",
    "        encoded_matrix = convertMod(plaintext)\n",
    "        encoded_text = encoded_text + \"\".join(str(x) for x in encoded_matrix)\n",
    "\n",
    "    return encoded_text\n",
    "\n",
    "def decode(A, message):\n",
    "    decoded_text = ''\n",
    "\n",
    "    A_inverse = (inverses[A[0][0] * A[1][1] - A[0][1] * A[1][0]]) * np.array([[A[1][1], -A[0][1]], [-A[1][0], A[0][0]]])\n",
    "\n",
    "\n",
    "    for i in range(0, len(message)-1, 2):\n",
    "        plaintext = np.matmul(A_inverse, [cipher[message[i]], cipher[message[i+1]]])\n",
    "        decoded_matrix = convertMod(plaintext)\n",
    "        decoded_text = decoded_text + \"\".join(str(x) for x in decoded_matrix)\n",
    "\n",
    "    return decoded_text\n"
   ]
  },
  {
   "cell_type": "code",
   "execution_count": 151,
   "metadata": {},
   "outputs": [
    {
     "data": {
      "text/plain": [
       "19"
      ]
     },
     "execution_count": 151,
     "metadata": {},
     "output_type": "execute_result"
    }
   ],
   "source": [
    "#Change these values\n",
    "A = np.array([[4,3],[1,2]]) #Change this to enciphering matrix, first [] is first row, second [] is second row\n",
    "\n",
    "message = \"DARK NIGHT\".replace(\" \", \"\").upper() #Change string to message wanted to encode\n",
    "\n",
    "number = 11 #Change for number for convertModBase and inverse\n",
    "\n",
    "base = 4 #Change for base for convertModBase\n",
    "\n",
    "#Examples of Using code\n",
    "\n",
    "#Encode\n",
    "encode(A,message)\n",
    "\n",
    "#Decode\n",
    "decode(A, message)\n",
    "\n",
    "#Convert number to mod with base\n",
    "convertModBase(number, base)\n",
    "\n",
    "#Get inverses for mod 26\n",
    "inverses[number]"
   ]
  }
 ],
 "metadata": {
  "kernelspec": {
   "display_name": "Python 3",
   "language": "python",
   "name": "python3"
  },
  "language_info": {
   "codemirror_mode": {
    "name": "ipython",
    "version": 3
   },
   "file_extension": ".py",
   "mimetype": "text/x-python",
   "name": "python",
   "nbconvert_exporter": "python",
   "pygments_lexer": "ipython3",
   "version": "3.8.5"
  }
 },
 "nbformat": 4,
 "nbformat_minor": 4
}
