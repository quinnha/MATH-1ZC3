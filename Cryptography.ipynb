{
 "cells": [
  {
   "cell_type": "markdown",
   "metadata": {},
   "source": [
    "# Hill-Cipher Stuff for 1ZC3!\n",
    "\n",
    "To use, run all of the cells in order, and edit the variables in the third cell. Then use any of the following cells for each function, encoding, decoding, converting number with a base, and finding the inverse. This should not be used in an official examination, only for practice!"
   ]
  },
  {
   "cell_type": "code",
   "execution_count": 7,
   "metadata": {},
   "outputs": [
    {
     "name": "stdout",
     "output_type": "stream",
     "text": [
      "Note: you may need to restart the kernel to use updated packages.\n"
     ]
    },
    {
     "name": "stderr",
     "output_type": "stream",
     "text": [
      "WARNING: You are using pip version 20.3.3; however, version 21.1 is available.\n",
      "You should consider upgrading via the 'C:\\Users\\quinn\\anaconda3\\python.exe -m pip install --upgrade pip' command.\n"
     ]
    },
    {
     "name": "stdout",
     "output_type": "stream",
     "text": [
      "Requirement already satisfied: numpy in c:\\users\\quinn\\anaconda3\\lib\\site-packages (1.19.2)\n"
     ]
    }
   ],
   "source": [
    "pip install numpy\n",
    "#Run if you don't have numpy"
   ]
  },
  {
   "cell_type": "code",
   "execution_count": 5,
   "metadata": {},
   "outputs": [],
   "source": [
    "#Encode\n",
    "import numpy as np\n",
    "\n",
    "cipher = {\"A\" : 1, \"B\" : 2, \"C\" : 3, \"D\": 4, \"E\": 5, \"F\": 6,\n",
    "         \"G\" : 7, \"H\" : 8, \"I\" : 9, \"J\": 10, \"K\": 11, \"L\": 12,\n",
    "         \"M\" : 13, \"N\" : 14, \"O\" : 15, \"P\": 16, \"Q\": 17, \"R\": 18,\n",
    "         \"S\" : 19, \"T\" : 20, \"U\" : 21, \"V\": 22, \"W\": 23, \"X\": 24,\n",
    "         \"Y\": 25, \"Z\" : 0}\n",
    "\n",
    "inv_cipher = {v: k for k, v in cipher.items()}\n",
    "\n",
    "inverses = {1 : 1, 3 : 9, 5 : 21, 7 : 15, 9 : 3, 11 : 19, 15 : 7, 17 : 23, 19 : 11, 21 : 5, 23 : 17, 25: 25}\n",
    "\n",
    "def convertLetter(ciphertext):\n",
    "    returnval = []\n",
    "    for i in ciphertext:\n",
    "        returnval.append(inv_cipher[i])\n",
    "    return returnval\n",
    "\n",
    "def convertMod(plaintext):\n",
    "    returnval = []\n",
    "    for i in plaintext:\n",
    "        if i == 26:\n",
    "            returnval.append(0)\n",
    "        elif i > 26:\n",
    "            returnval.append(i % 26)\n",
    "        elif i < 0:\n",
    "            returnval.append(26 - abs(i) % 26)\n",
    "        else:\n",
    "            returnval.append(i)\n",
    "    return convertLetter(returnval)\n",
    "\n",
    "def convertModBase (number, base):\n",
    "    if number == base:\n",
    "        return 0\n",
    "    elif number > base:\n",
    "        return number % base\n",
    "    elif number < 0:\n",
    "        return (base - abs(number) % base)\n",
    "    else:\n",
    "        return number\n",
    "\n",
    "def encode(A, message):\n",
    "    encoded_text = ''\n",
    "\n",
    "    counter = 0\n",
    "    for i in range(0, len(message)-1, 2):\n",
    "        plaintext = np.matmul(A, [cipher[message[i]], cipher[message[i+1]]])\n",
    "        encoded_matrix = convertMod(plaintext)\n",
    "        encoded_text = encoded_text + \"\".join(str(x) for x in encoded_matrix)\n",
    "        counter+=2\n",
    "\n",
    "    if len(message) - counter == 1:\n",
    "        plaintext = np.matmul(A, [cipher[message[-1]], cipher[message[-1]]])\n",
    "        encoded_matrix = convertMod(plaintext)\n",
    "        encoded_text = encoded_text + \"\".join(str(x) for x in encoded_matrix)\n",
    "\n",
    "    return encoded_text\n",
    "\n",
    "def decode(A, message):\n",
    "    decoded_text = ''\n",
    "\n",
    "    A_inverse = (inverses[A[0][0] * A[1][1] - A[0][1] * A[1][0]]) * np.array([[A[1][1], -A[0][1]], [-A[1][0], A[0][0]]])\n",
    "\n",
    "\n",
    "    for i in range(0, len(message)-1, 2):\n",
    "        plaintext = np.matmul(A_inverse, [cipher[message[i]], cipher[message[i+1]]])\n",
    "        decoded_matrix = convertMod(plaintext)\n",
    "        decoded_text = decoded_text + \"\".join(str(x) for x in decoded_matrix)\n",
    "\n",
    "    return decoded_text\n"
   ]
  },
  {
   "cell_type": "markdown",
   "metadata": {},
   "source": [
    "## Change Values Here!"
   ]
  },
  {
   "cell_type": "code",
   "execution_count": 14,
   "metadata": {},
   "outputs": [],
   "source": [
    "#Make sure to run the previous cells before the next!\n",
    "\n",
    "#Change this to enciphering matrix, first_row is first row, second_row is second row\n",
    "first_row = [4,1]\n",
    "second_row = [3,2]\n",
    "\n",
    "#Change message\n",
    "message = \"AOJX\"\n",
    "\n",
    "number = 11 #Change for number for convertModBase and to find inverse\n",
    "\n",
    "base = 26 #Change for base for convertModBase\n",
    "\n",
    "A = np.array([first_row,second_row]) \n",
    "\n",
    "message = message.replace(\" \", \"\").upper() #Change string to message wanted to encode"
   ]
  },
  {
   "cell_type": "markdown",
   "metadata": {},
   "source": [
    "## Run any one of these cells to use!"
   ]
  },
  {
   "cell_type": "code",
   "execution_count": 15,
   "metadata": {},
   "outputs": [
    {
     "data": {
      "text/plain": [
       "'SGLZ'"
      ]
     },
     "execution_count": 15,
     "metadata": {},
     "output_type": "execute_result"
    }
   ],
   "source": [
    "#Encode\n",
    "encode(A,message)"
   ]
  },
  {
   "cell_type": "code",
   "execution_count": 16,
   "metadata": {},
   "outputs": [
    {
     "data": {
      "text/plain": [
       "'MATH'"
      ]
     },
     "execution_count": 16,
     "metadata": {},
     "output_type": "execute_result"
    }
   ],
   "source": [
    "#Decode\n",
    "decode(A, message)"
   ]
  },
  {
   "cell_type": "code",
   "execution_count": 17,
   "metadata": {},
   "outputs": [
    {
     "data": {
      "text/plain": [
       "11"
      ]
     },
     "execution_count": 17,
     "metadata": {},
     "output_type": "execute_result"
    }
   ],
   "source": [
    "#Convert number to mod with base\n",
    "convertModBase(number, base)"
   ]
  },
  {
   "cell_type": "code",
   "execution_count": 18,
   "metadata": {},
   "outputs": [
    {
     "data": {
      "text/plain": [
       "19"
      ]
     },
     "execution_count": 18,
     "metadata": {},
     "output_type": "execute_result"
    }
   ],
   "source": [
    "#Get inverses for mod 26\n",
    "inverses[number]"
   ]
  }
 ],
 "metadata": {
  "kernelspec": {
   "display_name": "Python 3",
   "language": "python",
   "name": "python3"
  },
  "language_info": {
   "codemirror_mode": {
    "name": "ipython",
    "version": 3
   },
   "file_extension": ".py",
   "mimetype": "text/x-python",
   "name": "python",
   "nbconvert_exporter": "python",
   "pygments_lexer": "ipython3",
   "version": "3.8.5"
  }
 },
 "nbformat": 4,
 "nbformat_minor": 4
}
